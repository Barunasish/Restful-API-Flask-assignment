{
  "nbformat": 4,
  "nbformat_minor": 0,
  "metadata": {
    "colab": {
      "provenance": []
    },
    "kernelspec": {
      "name": "python3",
      "display_name": "Python 3"
    },
    "language_info": {
      "name": "python"
    }
  },
  "cells": [
    {
      "cell_type": "markdown",
      "source": [
        "SUBJECTIOVE QUESTIONS:"
      ],
      "metadata": {
        "id": "1VEDp0-EXm2R"
      }
    },
    {
      "cell_type": "code",
      "execution_count": null,
      "metadata": {
        "id": "Fw6ryCe7XetC"
      },
      "outputs": [],
      "source": [
        "\"\"\"\n",
        "##1: What is a RESTful API?\n",
        "\n",
        "Answer: A RESTful API, often known as a REST API, is an application programming interface (API) that follows the Representational State Transfer (REST) architecture.\n",
        "Roy Fielding, a computer scientist, defined this architectural style.\n",
        "\n",
        "\n",
        "##2:  Explain the concept of API specification.\n",
        "\n",
        "Answer: An API specification is a formal, detailed document or standard that explains how an Application Programming Interface (API) works, including its capabilities and how developers can interact with it.\n",
        "It serves as a blueprint or contract between the API provider and API consumer.\n",
        "\n",
        "\n",
        "##3: What is Flask, and why is it popular for building APIs?\n",
        "\n",
        "Answer: Flask is a microweb framework written in Python. It is referred to as a \"microframework\" since it just includes the necessary components for web development, such as routing, request handling, and templating,\n",
        "and does not include features like ORMs (Object Relational Managers) or form validation as default. This minimalist approach allows developers to have more freedom and control over the design of their applications,\n",
        "as well as the libraries and tools they use.\n",
        "Flask is popular for creating APIs for numerous important reasons:\n",
        "Lightweight and Minimalist, Flexibility and Extensibility, Pythonic, Simple Routing and Request Handling, Community and Extensions\n",
        "\n",
        "\n",
        "##4: What is routing in Flask?\n",
        "\n",
        "Answer: Routing in Flask is the process of mapping specified URL patterns to corresponding Python functions (known as \"view functions\") within your web application.\n",
        "When a user requests a specific URL, Flask's routing system decides which function should be called to process the request and provide a response.\n",
        "\n",
        "\n",
        "##5: How do you create a simple Flask application?\n",
        "\n",
        "Answer: Creating a simple Flask application consists of a few fundamental steps:\n",
        "Create a Project Directory and Virtual Environment.\n",
        "Make a separate folder for your project (such as my_flask_app).\n",
        "Navigate to this folder using your terminal.\n",
        "Create a virtual environment for managing project dependencies.\n",
        "activate the virtual environment.\n",
        "With the virtual environment activated, install Flask with pip.\n",
        "Create a Python file in your project directory (for example, app.py).\n",
        "Add the following code to app.py.\n",
        "Save app.py.\n",
        "Run the application from your terminal (with the virtual environment activated and in your project directory).\n",
        "\n",
        "from flask import Flask\n",
        "\n",
        "    app = Flask(__name__)\n",
        "\n",
        "    @app.route('/')\n",
        "    def hello_world():\n",
        "        return 'Hello World!'\n",
        "\n",
        "    if __name__ == '__main__':\n",
        "        app.run(debug=True)\n",
        "\n",
        "From flask import Flask: Imports the Flask class.\n",
        "app = Flask(__name__): Creates a Flask application instance. Flask uses __name__ to help it discover resources.\n",
        "@app.route('/'): This decorator binds the hello_world function to the root URL (/).\n",
        "def hello_world(): This function is called when a request is made to the root URL and returns the string \"Hello World!\".\n",
        "if __name__ == '__main__': This ensures that app.run() is only called when the script is executed directly (rather than when imported as a module).\n",
        "app.run(debug=True) starts the Flask development server. debug=True activates debug mode, which displays useful error messages and immediately reloads the server when code changes.\n",
        "\n",
        "\n",
        "##6: What are HTTP methods used in RESTful APIs?\n",
        "\n",
        "Answer: RESTful APIs use common HTTP methods (also known as verbs) to accomplish resource actions, which are consistent with the Representational State Transfer principles. The most popular methods,\n",
        "which correlate to CRUD (Create, Read, Update, Delete) actions, are:\n",
        "GET: Retrieve data from a specified resource. It is both idempotent (many identical requests have the same effect) and safe.\n",
        "POST :is used to establish new resources or submit data for processing. It is neither idempotent or safe.\n",
        "PUT: Updates an existing resource or creates a new one at the provided URL. It's idempotent.\n",
        "DELETE: Removes a given resource from the server. It is not always idempotent.\n",
        "\n",
        "\n",
        "##7: What is the purpose of the @app.route() decorator in Flask?\n",
        "\n",
        "Answer: The @app.route() decorator in Flask defines URL routes and associates them with specific Python functions. This method is essential to how Flask routes incoming web requests to the code that handles them.\n",
        "\n",
        "\n",
        "##8: What is the difference between GET and POST HTTP methods?\n",
        "\n",
        "Answer: The primary differences between GET and POST HTTP techniques are:\n",
        "\n",
        "GET transmits data through the URL, making it visible and less secure, whereas POST sends data through the request body, keeping it hidden and more safe.\n",
        "\n",
        "GET retrieves data without affecting server state, whereas POST submits data to create or update resources.\n",
        "\n",
        "GET requests can be cached and are idempotent (meaning they can be repeated), but they are restricted by URL length;POST queries are not normally cacheable, are not naturally idempotent, and have no data size limit.\n",
        "\n",
        "\n",
        "##9:  How do you handle errors in Flask APIs?\n",
        "\n",
        "Answer: When failures occur in a Flask API, clients receive useful answers rather than raw server faults. This can be accomplished through a variety of methods:\n",
        "1. Custom error handlers:\n",
        "Using @app.errorhandler: This decorator lets you to define functions that handle specific HTTP status codes (e.g., 404 Not Found, 500 Internal Server Error) and Python exceptions.\n",
        "2. Raising HTTP Exceptions: Use flask.abort to abort a request with a given status code. It is useful for dealing with issues such as invalid input or unauthorised access.\n",
        "\n",
        "\n",
        "##10:  How do you connect Flask to a SQL database?\n",
        "\n",
        "Answer: Flask has a built-in database interface, thus it relies on SQLAlchemy, a sophisticated toolkit that simplifies database management. SQLAlchemy includes an Object Relational Mapper (ORM), which enables developers to communicate with databases via Python code rather than raw SQL.\n",
        "This has various advantages:\n",
        "Streamlines database management.\n",
        "Improves security.\n",
        "Supports a variety of database systems, including SQLite, MySQL, and PostgreSQL.\n",
        "Easily connects with Flask using the Flask - SQLAlchemy extension\n",
        "\n",
        "\n",
        "##11: What is the role of Flask-SQLAlchemy?\n",
        "\n",
        "Answer: Flask-SQLAlchemy is a Flask extension that simplifies the use of SQLAlchemy with Flask by providing tools and methods for interacting with your database in Flask applications via SQLAlchemy.\n",
        "\n",
        "\n",
        "##12:  What are Flask blueprints, and how are they useful?\n",
        "\n",
        "Answer: Flask Blueprints are a feature of the Flask web framework that allows you to organise an application into smaller, reusable, and modular components.They are used to structure larger Flask applications,\n",
        "preventing all code from being in one file and promoting better maintainability and scalability.\n",
        "Flask Blueprints offer an organised and efficient approach to developing complicated Flask applications, improving code organisation, reusability, and maintainability.\n",
        "\n",
        "\n",
        "##13: What is the purpose of Flask's request object?\n",
        "\n",
        "Answer: The objective of Flask's request object is to provide a complete interface for retrieving information about an incoming HTTP request from a client to the Flask server.\n",
        "It serves as a container for the data associated with the current request and the request context.\n",
        "\n",
        "\n",
        "##14:  How do you create a RESTful API endpoint using Flask?\n",
        "\n",
        "Answer: Using Flask, you may create a RESTful API endpoint by building routes that correspond to specific HTTP methods (GET, POST, PUT, and DELETE) and handling requests and responses, which are frequently in JSON format.\n",
        "\n",
        "\n",
        "##15: What is the purpose of Flask's jsonify() function?\n",
        "\n",
        "Answer: Flask's jsonify() function simplifies the production of JSON responses in Flask-based web applications.jsonify() simplifies the process of transmitting structured data as JSON from a Flask server,\n",
        "making it useful for constructing RESTful APIs and other applications that use JSON for data communication.\n",
        "\n",
        "\n",
        "##16: Explain Flask’s url_for() function\n",
        "\n",
        "Answer: The url_for() function in Flask dynamically produces URLs for particular view functions or static files within an application. Its primary goal is to prevent hardcoding URLs, which improves the application's robustness and maintainability.\n",
        "\n",
        "\n",
        "##17: How does Flask handle static files (CSS, JavaScript, etc.)?\n",
        "\n",
        "Answer: In Flask, static files are CSS, JavaScript, pictures, videos, and audio files that do not alter dynamically. Flask has a built-in capability to serve static files through the /static directory.\n",
        "\n",
        "\n",
        "##18: What is an API specification, and how does it help in building a Flask API?\n",
        "\n",
        "Answer: An API specification is a formal, detailed definition of an API's features, behaviour, and structure. It serves as a blueprint, detailing how to utilise the API, including available endpoints, accepted input parameters,\n",
        "expected output formats, data models, and security criteria.Popular examples include the OpenAPI Specification (formerly Swagger).\n",
        "\n",
        "\n",
        "##19: What are HTTP status codes, and why are they important in a Flask API?\n",
        "\n",
        "Answer: HTTP status codes are three-digit numbers generated by a server in response to an HTTP request that indicate the status of the requested activity.\n",
        "They provide a consistent method for servers to deliver the results of a request to clients.\n",
        "\n",
        "\n",
        "##20:  How do you handle POST requests in Flask?\n",
        "\n",
        "Answer: To handle POST requests in Flask, you must first define routes that accept the POST method and then access the data submitted with the request.\n",
        "Define the route using methods=['POST']:\n",
        "To specify that a route should support POST requests, add methods=['POST'] to the @app.route() decorator. If the route also needs to handle GET requests, provide both: methods=['GET', 'POST'].\n",
        "\n",
        "\n",
        "##21: How would you secure a Flask API?\n",
        "\n",
        "Answer: To protect a Flask API, use authentication (such as JWT or OAuth2) and role-based access restriction. To prevent injection attacks, encrypt data in transit with HTTPS and check all user inputs.\n",
        "Use secure headers with technologies such as Flask-Talisman, and only allow CORS for trusted domains. Protect against CSRF (if cookies are used) and utilise rate limitation to prevent exploitation.\n",
        "Never expose sensitive data in code; instead, utilise environment variables.Disable debug mode in production and record security events for monitoring.To avoid raw SQL queries,\n",
        "use an ORM like SQLAlchemy and deploy with a secure server behind a proxy, such as Gunicorn.\n",
        "\n",
        "\n",
        "##22: What is the significance of the Flask-RESTful extension?\n",
        "\n",
        "Answer: The Flask-RESTful addon makes creating REST APIs with Flask easier by providing a structured and resource-oriented approach. It allows you to organise endpoints as Python classes using the Resource class, making your code clearer and easier to maintain.\n",
        "It also has built-in request parsing and input validation with reqparse, which reduces boilerplate code.Flask-RESTful automatically handles HTTP methods such as GET, POST, PUT, and DELETE and works seamlessly with Flask's routing mechanism.\n",
        "It encourages RESTful design principles and simplifies error handling and response formats (e.g., JSON). Overall,it accelerates API development while ensuring consistency and best practices for designing RESTful services.\n",
        "\n",
        "\n",
        "##23: What is the role of Flask’s session object?\n",
        "\n",
        "Answer: The Flask session object stores user-specific data over several requests, allowing for stateful interactions with web applications. It functions as a dictionary, allowing you to save and retrieve data connected with a given user session.\n",
        "This is critical for storing user data such as authentication status, preferences, and shopping cart contents.\n",
        "\"\"\"\n"
      ]
    },
    {
      "cell_type": "markdown",
      "source": [
        "# **PRACTICAL QUESTIONS**\n",
        "\n",
        "---\n",
        "\n",
        "\n",
        "\n",
        "---\n",
        "\n"
      ],
      "metadata": {
        "id": "zr3biUYivoX9"
      }
    },
    {
      "cell_type": "code",
      "source": [
        "#1: How do you create a basic Flask application?\n",
        "\n",
        "\n",
        "from flask import Flask\n",
        "\n",
        "app = Flask(__name__)\n",
        "\n",
        "@app.route('/')\n",
        "def hello_world():\n",
        "    return 'Hello, World!'\n",
        "\n",
        "if __name__ == '__main__':\n",
        "    app.run()"
      ],
      "metadata": {
        "colab": {
          "base_uri": "https://localhost:8080/"
        },
        "id": "On4N5PYyvmTW",
        "outputId": "cd30847f-276c-4f7e-b999-e5a91d916eec"
      },
      "execution_count": 4,
      "outputs": [
        {
          "output_type": "stream",
          "name": "stdout",
          "text": [
            " * Serving Flask app '__main__'\n",
            " * Debug mode: off\n"
          ]
        },
        {
          "output_type": "stream",
          "name": "stderr",
          "text": [
            "INFO:werkzeug:\u001b[31m\u001b[1mWARNING: This is a development server. Do not use it in a production deployment. Use a production WSGI server instead.\u001b[0m\n",
            " * Running on http://127.0.0.1:5000\n",
            "INFO:werkzeug:\u001b[33mPress CTRL+C to quit\u001b[0m\n"
          ]
        }
      ]
    },
    {
      "cell_type": "code",
      "source": [
        "#2: How do you serve static files like images or CSS in Flask?\n",
        "\n",
        "\n",
        "#html front end contating the static pic which is stored in index.html file\n",
        "<!DOCTYPE html>\n",
        "<html lang=\"en\">\n",
        "<head>\n",
        "    <meta charset=\"UTF-8\">\n",
        "    <meta name=\"viewport\" content=\"width=device-width, initial-scale=1.0\">\n",
        "    <link rel=\"stylesheet\" href=\"{{ url_for('static', filename='css/styles.css') }}\">\n",
        "    <title>Flask Static Files</title>\n",
        "</head>\n",
        "<body>\n",
        "    <h1>Hello,friends welcome to PW skills</h1>\n",
        "    <img src=\"{{ url_for('static', filename='C:\\Users\\LENOVO\\Downloads\\PWSkills-main-4.png') }}\" alt=\"My Image\">\n",
        "</body>\n",
        "</html>\n",
        "\n",
        "\n",
        "#python code to render the static image which is to be saved in index.html file\n",
        "\n",
        "from flask import Flask, render_template\n",
        "\n",
        "app = Flask(__name__)\n",
        "\n",
        "@app.route('/')\n",
        "def home():\n",
        "    return render_template('index.html')\n",
        "\n",
        "if __name__ == '__main__':\n",
        "    app.run(debug=True)\n",
        "\n",
        "\n",
        "\n"
      ],
      "metadata": {
        "id": "iQ7AnL-nwCtc"
      },
      "execution_count": null,
      "outputs": []
    },
    {
      "cell_type": "code",
      "source": [
        "#3: How do you define different routes with different HTTP methods in Flask?\n",
        "\n",
        "\n",
        "from flask import Flask, request, jsonify\n",
        "\n",
        "app = Flask(__name__)\n",
        "\n",
        "@app.route('/api/data', methods=['GET'])\n",
        "def get_data():\n",
        "    data = {\"message\": \"This is a GET request\"}\n",
        "    return jsonify(data)\n",
        "\n",
        "@app.route('/api/data', methods=['POST'])\n",
        "def post_data():\n",
        "    data = request.get_json()\n",
        "    response = {\"message\": \"This is a POST request\", \"data_received\": data}\n",
        "    return jsonify(response), 201\n",
        "\n",
        "@app.route('/api/data/<int:data_id>', methods=['PUT'])\n",
        "def update_data(data_id):\n",
        "    data = request.get_json()\n",
        "    response = {\"message\": f\"Data with ID {data_id} updated\", \"new_data\": data}\n",
        "    return jsonify(response)\n",
        "\n",
        "@app.route('/api/data/<int:data_id>', methods=['DELETE'])\n",
        "def delete_data(data_id):\n",
        "    response = {\"message\": f\"Data with ID {data_id} deleted\"}\n",
        "    return jsonify(response), 204\n",
        "\n",
        "if __name__ == '__main__':\n",
        "    app.run(debug=True)\n"
      ],
      "metadata": {
        "colab": {
          "base_uri": "https://localhost:8080/"
        },
        "id": "rBqXbAdf8fni",
        "outputId": "2f6aaf23-b483-47ff-9f8a-54b24a6358fe"
      },
      "execution_count": 6,
      "outputs": [
        {
          "output_type": "stream",
          "name": "stdout",
          "text": [
            " * Serving Flask app '__main__'\n",
            " * Debug mode: on\n"
          ]
        },
        {
          "output_type": "stream",
          "name": "stderr",
          "text": [
            "INFO:werkzeug:\u001b[31m\u001b[1mWARNING: This is a development server. Do not use it in a production deployment. Use a production WSGI server instead.\u001b[0m\n",
            " * Running on http://127.0.0.1:5000\n",
            "INFO:werkzeug:\u001b[33mPress CTRL+C to quit\u001b[0m\n",
            "INFO:werkzeug: * Restarting with stat\n"
          ]
        }
      ]
    },
    {
      "cell_type": "code",
      "source": [
        "#4: How do you render HTML templates in Flask?\n",
        "\n",
        "<!DOCTYPE html>\n",
        "<html lang=\"en\">\n",
        "<head>\n",
        "    <meta charset=\"UTF-8\">\n",
        "    <meta name=\"viewport\" content=\"width=device-width, initial-scale=1.0\">\n",
        "    <title>Flask Template Example</title>\n",
        "</head>\n",
        "<body>\n",
        "    <h1>Welcome to Flask!</h1>\n",
        "    <p>This is a simple HTML template rendered by Flask.</p>\n",
        "</body>\n",
        "</html>\n",
        "\n",
        "\n",
        "#python code to render the tempelete\n",
        "\n",
        "from flask import Flask, render_template\n",
        "\n",
        "app = Flask(__name__)\n",
        "\n",
        "@app.route('/')\n",
        "def home():\n",
        "    return render_template('index.html')\n",
        "\n",
        "if __name__ == '__main__':\n",
        "    app.run(debug=True)\n"
      ],
      "metadata": {
        "id": "gT8PP96p9JPy"
      },
      "execution_count": null,
      "outputs": []
    },
    {
      "cell_type": "code",
      "source": [
        "#5:  How can you generate URLs for routes in Flask using url_for?\n",
        "\n",
        "from  flask import Flask, url_for\n",
        "app = Flask(__name__)\n",
        "@app.route('/')\n",
        "def index():\n",
        "    return 'Hello, World!'\n",
        "@app.route('/user/<username>')\n",
        "def profile(username):\n",
        "    return f'{username}\\'s profile'"
      ],
      "metadata": {
        "id": "qzo6EPXi-AdZ"
      },
      "execution_count": 8,
      "outputs": []
    },
    {
      "cell_type": "code",
      "source": [
        "#6: How do you handle forms in Flask?\n",
        "\n",
        "#html code for the form to be created\n",
        "\n",
        "<!DOCTYPE html>\n",
        "<html lang=\"en\">\n",
        "<head>\n",
        "    <meta charset=\"UTF-8\">\n",
        "    <meta name=\"viewport\" content=\"width=device-width, initial-scale=1.0\">\n",
        "    <title>Form Example</title>\n",
        "</head>\n",
        "<body>\n",
        "    <h1>Submit Your Information</h1>\n",
        "    <form action=\"{{ url_for('submit_form') }}\" method=\"POST\">\n",
        "        <label for=\"name\">Name:</label>\n",
        "        <input type=\"text\" id=\"name\" name=\"name\" required>\n",
        "        <br>\n",
        "        <label for=\"email\">Email:</label>\n",
        "        <input type=\"email\" id=\"email\" name=\"email\" required>\n",
        "        <br>\n",
        "        <input type=\"submit\" value=\"Submit\">\n",
        "    </form>\n",
        "</body>\n",
        "</html>\n",
        "\n",
        "#pythonic code for thr flask application to work\n",
        "\n",
        "from flask import Flask, render_template, request, redirect, url_for, flash\n",
        "\n",
        "app = Flask(__name__)\n",
        "\n",
        "@app.route('/form')\n",
        "def form():\n",
        "    return render_template('form.html')\n",
        "\n",
        "@app.route('/submit', methods=['POST'])\n",
        "def submit_form():\n",
        "    name = request.form.get('name')\n",
        "    email = request.form.get('email')\n",
        "\n",
        "    # Flash a message to the user\n",
        "    flash(f'Thank you, {name}! Your email {email} has been submitted.')\n",
        "\n",
        "    return redirect(url_for('form'))\n",
        "\n",
        "\n",
        "if __name__ == '__main__':\n",
        "    app.run(debug=True)\n",
        "\n"
      ],
      "metadata": {
        "id": "BsM5hyGp_FU1"
      },
      "execution_count": null,
      "outputs": []
    },
    {
      "cell_type": "code",
      "source": [
        "!pip install Flask-WTF"
      ],
      "metadata": {
        "colab": {
          "base_uri": "https://localhost:8080/"
        },
        "id": "JpKpbOBQBAvP",
        "outputId": "d5968781-f12c-4b7a-fbb9-d9ac19005f05"
      },
      "execution_count": 12,
      "outputs": [
        {
          "output_type": "stream",
          "name": "stdout",
          "text": [
            "Collecting Flask-WTF\n",
            "  Downloading flask_wtf-1.2.2-py3-none-any.whl.metadata (3.4 kB)\n",
            "Requirement already satisfied: flask in /usr/local/lib/python3.11/dist-packages (from Flask-WTF) (3.1.1)\n",
            "Requirement already satisfied: itsdangerous in /usr/local/lib/python3.11/dist-packages (from Flask-WTF) (2.2.0)\n",
            "Collecting wtforms (from Flask-WTF)\n",
            "  Downloading wtforms-3.2.1-py3-none-any.whl.metadata (5.3 kB)\n",
            "Requirement already satisfied: blinker>=1.9.0 in /usr/local/lib/python3.11/dist-packages (from flask->Flask-WTF) (1.9.0)\n",
            "Requirement already satisfied: click>=8.1.3 in /usr/local/lib/python3.11/dist-packages (from flask->Flask-WTF) (8.2.1)\n",
            "Requirement already satisfied: jinja2>=3.1.2 in /usr/local/lib/python3.11/dist-packages (from flask->Flask-WTF) (3.1.6)\n",
            "Requirement already satisfied: markupsafe>=2.1.1 in /usr/local/lib/python3.11/dist-packages (from flask->Flask-WTF) (3.0.2)\n",
            "Requirement already satisfied: werkzeug>=3.1.0 in /usr/local/lib/python3.11/dist-packages (from flask->Flask-WTF) (3.1.3)\n",
            "Downloading flask_wtf-1.2.2-py3-none-any.whl (12 kB)\n",
            "Downloading wtforms-3.2.1-py3-none-any.whl (152 kB)\n",
            "\u001b[?25l   \u001b[90m━━━━━━━━━━━━━━━━━━━━━━━━━━━━━━━━━━━━━━━━\u001b[0m \u001b[32m0.0/152.5 kB\u001b[0m \u001b[31m?\u001b[0m eta \u001b[36m-:--:--\u001b[0m\r\u001b[2K   \u001b[91m━━━━━━━━━━━━━━━━━━━━━━━━━━━━━━━━━━━━━\u001b[0m\u001b[91m╸\u001b[0m\u001b[90m━━\u001b[0m \u001b[32m143.4/152.5 kB\u001b[0m \u001b[31m5.4 MB/s\u001b[0m eta \u001b[36m0:00:01\u001b[0m\r\u001b[2K   \u001b[90m━━━━━━━━━━━━━━━━━━━━━━━━━━━━━━━━━━━━━━━━\u001b[0m \u001b[32m152.5/152.5 kB\u001b[0m \u001b[31m3.3 MB/s\u001b[0m eta \u001b[36m0:00:00\u001b[0m\n",
            "\u001b[?25hInstalling collected packages: wtforms, Flask-WTF\n",
            "Successfully installed Flask-WTF-1.2.2 wtforms-3.2.1\n"
          ]
        }
      ]
    },
    {
      "cell_type": "code",
      "source": [
        "#7: How can you validate form data in Flask\n",
        "\n",
        "from flask import Flask, render_template, redirect, url_for, flash\n",
        "from flask_wtf import FlaskForm\n",
        "from wtforms import StringField, EmailField, SubmitField\n",
        "from wtforms.validators import DataRequired, Email\n",
        "\n",
        "app = Flask(__name__)\n",
        "app.secret_key = 'your_secret_key'  # Required for session management (e.g., flash messages)\n",
        "\n",
        "# Define the form class\n",
        "class MyForm(FlaskForm):\n",
        "    name = StringField('Name', validators=[DataRequired()])\n",
        "    email = EmailField('Email', validators=[DataRequired(), Email()])\n",
        "    submit = SubmitField('Submit')\n",
        "\n",
        "@app.route('/form', methods=['GET', 'POST'])\n",
        "def form():\n",
        "    form = MyForm()\n",
        "    if form.validate_on_submit():\n",
        "        # Process the validated data\n",
        "        name = form.name.data\n",
        "        email = form.email.data\n",
        "        flash(f'Thank you, {name}! Your email {email} has been submitted.')\n",
        "        return redirect(url_for('form'))\n",
        "    return render_template('form.html', form=form)\n",
        "\n",
        "if __name__ == '__main__':\n",
        "    app.run(debug=True)\n"
      ],
      "metadata": {
        "colab": {
          "base_uri": "https://localhost:8080/"
        },
        "id": "boElYs9KAqHi",
        "outputId": "48713a13-3ce1-42e9-fb03-f6033ad3894c"
      },
      "execution_count": 13,
      "outputs": [
        {
          "output_type": "stream",
          "name": "stdout",
          "text": [
            " * Serving Flask app '__main__'\n",
            " * Debug mode: on\n"
          ]
        },
        {
          "output_type": "stream",
          "name": "stderr",
          "text": [
            "INFO:werkzeug:\u001b[31m\u001b[1mWARNING: This is a development server. Do not use it in a production deployment. Use a production WSGI server instead.\u001b[0m\n",
            " * Running on http://127.0.0.1:5000\n",
            "INFO:werkzeug:\u001b[33mPress CTRL+C to quit\u001b[0m\n",
            "INFO:werkzeug: * Restarting with stat\n"
          ]
        }
      ]
    },
    {
      "cell_type": "code",
      "source": [
        "#8:  How do you manage sessions in Flask?\n",
        "\n",
        "from flask import Flask, session, redirect, url_for, request, flash, render_template\n",
        "\n",
        "app = Flask(__name__)\n",
        "\n",
        "@app.route('/set_session', methods=['POST'])\n",
        "def set_session():\n",
        "    session['username'] = request.form.get('username')\n",
        "    flash(f'Session data set for user: {session[\"username\"]}')\n",
        "    return redirect(url_for('home'))\n",
        "\n",
        "@app.route('/get_session')\n",
        "def get_session():\n",
        "    username = session.get('username')\n",
        "    if username:\n",
        "        return f'Hello, {username}!'\n",
        "    else:\n",
        "        return 'No session data found.'\n",
        "@app.route('/')\n",
        "def home():\n",
        "    return render_template('home.html')\n",
        "\n",
        "@app.route('/set_session', methods=['POST'])\n",
        "def set_session():\n",
        "    session['username'] = request.form.get('username')\n",
        "    flash(f'Session data set for user: {session[\"username\"]}')\n",
        "    return redirect(url_for('home'))\n",
        "\n",
        "@app.route('/get_session')\n",
        "def get_session():\n",
        "    username = session.get('username')\n",
        "    if username:\n",
        "        return f'Hello, {username}!'\n",
        "    else:\n",
        "        return 'No session data found.'\n",
        "\n",
        "@app.route('/clear_session')\n",
        "def clear_session():\n",
        "    session.clear()\n",
        "    flash('Session data cleared.')\n",
        "    return redirect(url_for('home'))\n",
        "\n",
        "\n",
        "\n",
        "if __name__ == '__main__':\n",
        "    app.run(debug=True)\n"
      ],
      "metadata": {
        "id": "3CsQnStPA9od"
      },
      "execution_count": null,
      "outputs": []
    },
    {
      "cell_type": "code",
      "source": [
        "#9: How do you redirect to a different route in Flask?\n",
        "\n",
        "from flask import Flask, redirect, url_for, render_template\n",
        "\n",
        "app = Flask(__name__)\n",
        "\n",
        "@app.route('/')\n",
        "def home():\n",
        "    return render_template('home.html')\n",
        "\n",
        "@app.route('/about')\n",
        "def about():\n",
        "    return \"This is the About page.\"\n",
        "\n",
        "@app.route('/contact')\n",
        "def contact():\n",
        "    return \"This is the Contact page.\"\n",
        "\n",
        "@app.route('/redirect_to_about')\n",
        "def redirect_to_about():\n",
        "    return redirect(url_for('about'))\n",
        "\n",
        "\n",
        "\n",
        "if __name__ == '__main__':\n",
        "    app.run(debug=True)\n"
      ],
      "metadata": {
        "colab": {
          "base_uri": "https://localhost:8080/"
        },
        "id": "kZ3DhAq3CDiX",
        "outputId": "91d717b7-d4bf-43f6-f21b-307545de509c"
      },
      "execution_count": 15,
      "outputs": [
        {
          "output_type": "stream",
          "name": "stdout",
          "text": [
            " * Serving Flask app '__main__'\n",
            " * Debug mode: on\n"
          ]
        },
        {
          "output_type": "stream",
          "name": "stderr",
          "text": [
            "INFO:werkzeug:\u001b[31m\u001b[1mWARNING: This is a development server. Do not use it in a production deployment. Use a production WSGI server instead.\u001b[0m\n",
            " * Running on http://127.0.0.1:5000\n",
            "INFO:werkzeug:\u001b[33mPress CTRL+C to quit\u001b[0m\n",
            "INFO:werkzeug: * Restarting with stat\n"
          ]
        }
      ]
    },
    {
      "cell_type": "code",
      "source": [
        "#10: How do you handle errors in Flask (e.g., 404)?\n",
        "\n",
        "from flask import Flask, render_template\n",
        "\n",
        "app = Flask(__name__)\n",
        "\n",
        "@app.route('/')\n",
        "def home():\n",
        "    return \"Welcome to the Home Page!\"\n",
        "\n",
        "@app.errorhandler(404)\n",
        "def not_found(error):\n",
        "    return render_template('404.html'), 404\n",
        "\n",
        "@app.errorhandler(500)\n",
        "def internal_error(error):\n",
        "    return render_template('500.html'), 500\n",
        "\n",
        "\n",
        "@app.route('/about')\n",
        "def about():\n",
        "    return \"This is the About page.\"\n",
        "\n",
        "@app.route('/contact')\n",
        "def contact():\n",
        "    return \"This is the Contact page.\"\n",
        "\n",
        "\n",
        "\n",
        "if __name__ == '__main__':\n",
        "    app.run(debug=True)\n"
      ],
      "metadata": {
        "colab": {
          "base_uri": "https://localhost:8080/"
        },
        "id": "3uxldMBlCpUn",
        "outputId": "570da45b-6c87-402e-b8f2-78431d543125"
      },
      "execution_count": 16,
      "outputs": [
        {
          "output_type": "stream",
          "name": "stdout",
          "text": [
            " * Serving Flask app '__main__'\n",
            " * Debug mode: on\n"
          ]
        },
        {
          "output_type": "stream",
          "name": "stderr",
          "text": [
            "INFO:werkzeug:\u001b[31m\u001b[1mWARNING: This is a development server. Do not use it in a production deployment. Use a production WSGI server instead.\u001b[0m\n",
            " * Running on http://127.0.0.1:5000\n",
            "INFO:werkzeug:\u001b[33mPress CTRL+C to quit\u001b[0m\n",
            "INFO:werkzeug: * Restarting with stat\n"
          ]
        }
      ]
    },
    {
      "cell_type": "code",
      "source": [
        "#11: How do you structure a Flask app using Blueprints?\n",
        "\n",
        "from flask import Flask\n",
        "from myapp import my_blueprint\n",
        "\n",
        "def create_app():\n",
        "    app = Flask(__name__)\n",
        "    app.config.from_object('config')  # Load configuration from config.py\n",
        "\n",
        "    # Register Blueprints\n",
        "    app.register_blueprint(my_blueprint)\n",
        "\n",
        "    return app\n",
        "\n",
        "from flask import Blueprint\n",
        "\n",
        "my_blueprint = Blueprint('my_blueprint', __name__)\n",
        "\n",
        "from myapp import routes  # Import routes to register them with the Blueprint\n",
        "\n",
        "\n",
        "from flask import render_template\n",
        "from myapp import my_blueprint\n",
        "\n",
        "@my_blueprint.route('/')\n",
        "def home():\n",
        "    return render_template('home.html')\n",
        "import os\n",
        "\n",
        "class Config:\n",
        "    SECRET_KEY = os.environ.get('SECRET_KEY')\n",
        "\n",
        "\n",
        "\n",
        "\n",
        "if __name__ == '__main__':\n",
        "    app = create_app()\n",
        "    app.run(debug=True)\n"
      ],
      "metadata": {
        "id": "Ky7KBr-8DJDV"
      },
      "execution_count": null,
      "outputs": []
    },
    {
      "cell_type": "code",
      "source": [
        "#12:  How do you define a custom Jinja filter in Flask?\n",
        "\n",
        "from flask import Flask, render_template\n",
        "\n",
        "app = Flask(__name__)\n",
        "\n",
        "# A custom Jinja filter\n",
        "@app.template_filter('reverse')\n",
        "def reverse_filter(s):\n",
        "    \"\"\"Reverses a string.\"\"\"\n",
        "    return s[::-1]\n",
        "\n",
        "@app.route('/')\n",
        "def index():\n",
        "    sample_text = \"Hello, Flask!\"\n",
        "    return render_template('index.html', text=sample_text)\n",
        "\n",
        "if __name__ == '__main__':\n",
        "    app.run(debug=True)\n"
      ],
      "metadata": {
        "colab": {
          "base_uri": "https://localhost:8080/"
        },
        "id": "toO2CKLsD5bf",
        "outputId": "fcfbd1de-1bec-4761-da5a-674bd606cb26"
      },
      "execution_count": 18,
      "outputs": [
        {
          "output_type": "stream",
          "name": "stdout",
          "text": [
            " * Serving Flask app '__main__'\n",
            " * Debug mode: on\n"
          ]
        },
        {
          "output_type": "stream",
          "name": "stderr",
          "text": [
            "INFO:werkzeug:\u001b[31m\u001b[1mWARNING: This is a development server. Do not use it in a production deployment. Use a production WSGI server instead.\u001b[0m\n",
            " * Running on http://127.0.0.1:5000\n",
            "INFO:werkzeug:\u001b[33mPress CTRL+C to quit\u001b[0m\n",
            "INFO:werkzeug: * Restarting with stat\n"
          ]
        }
      ]
    },
    {
      "cell_type": "code",
      "source": [
        "#13: How can you redirect with query parameters in Flask?\n",
        "\n",
        "from flask import Flask, redirect, url_for, request\n",
        "\n",
        "app = Flask(__name__)\n",
        "\n",
        "\n",
        "\n",
        "@app.route('/redirect_to_greet')\n",
        "def redirect_to_greet():\n",
        "    name = request.args.get('name', 'Guest')  # Get the name from query parameters\n",
        "    return redirect(url_for('greet', name=name))\n",
        "\n",
        "@app.route('/greet')\n",
        "def greet():\n",
        "    name = request.args.get('name', 'Guest')  # Get the name from query parameters\n",
        "    return f\"Hello, {name}!\"\n",
        "\n",
        "@app.route('/')\n",
        "def home():\n",
        "    return '''\n",
        "        <h1>Welcome to the Home Page!</h1>\n",
        "        <a href=\"/redirect_to_greet?name=John\">Greet Ajay</a><br>\n",
        "        <a href=\"/redirect_to_greet?name=Jane\">Greet Baban</a>\n",
        "    '''\n",
        "\n",
        "\n",
        "\n",
        "if __name__ == '__main__':\n",
        "    app.run(debug=True)\n"
      ],
      "metadata": {
        "colab": {
          "base_uri": "https://localhost:8080/"
        },
        "id": "Vm0Qy4R3EWUT",
        "outputId": "5d6bf3b3-3b07-4565-eb7d-5b688b8211ea"
      },
      "execution_count": 20,
      "outputs": [
        {
          "output_type": "stream",
          "name": "stdout",
          "text": [
            " * Serving Flask app '__main__'\n",
            " * Debug mode: on\n"
          ]
        },
        {
          "output_type": "stream",
          "name": "stderr",
          "text": [
            "INFO:werkzeug:\u001b[31m\u001b[1mWARNING: This is a development server. Do not use it in a production deployment. Use a production WSGI server instead.\u001b[0m\n",
            " * Running on http://127.0.0.1:5000\n",
            "INFO:werkzeug:\u001b[33mPress CTRL+C to quit\u001b[0m\n",
            "INFO:werkzeug: * Restarting with stat\n"
          ]
        }
      ]
    },
    {
      "cell_type": "code",
      "source": [
        "#14:  How do you return JSON responses in Flask?\n",
        "\n",
        "from flask import Flask, jsonify\n",
        "\n",
        "app = Flask(__name__)\n",
        "\n",
        "@app.route('/')\n",
        "def home():\n",
        "    return \"Welcome to the Home Page!\"\n",
        "\n",
        "@app.route('/api/user')\n",
        "def get_user():\n",
        "    user = {\n",
        "        \"id\": 1,\n",
        "        \"name\": \"barunasish Ghosh\",\n",
        "        \"email\": \"baban.ghosh@yahoo.com\"\n",
        "    }\n",
        "    return jsonify(user)\n",
        "\n",
        "\n",
        "\n",
        "if __name__ == '__main__':\n",
        "    app.run(debug=True)\n"
      ],
      "metadata": {
        "colab": {
          "base_uri": "https://localhost:8080/"
        },
        "id": "FJtP-uH6E7WO",
        "outputId": "d0b597d9-9163-4dc9-b7b6-f8e49f095de0"
      },
      "execution_count": 21,
      "outputs": [
        {
          "output_type": "stream",
          "name": "stdout",
          "text": [
            " * Serving Flask app '__main__'\n",
            " * Debug mode: on\n"
          ]
        },
        {
          "output_type": "stream",
          "name": "stderr",
          "text": [
            "INFO:werkzeug:\u001b[31m\u001b[1mWARNING: This is a development server. Do not use it in a production deployment. Use a production WSGI server instead.\u001b[0m\n",
            " * Running on http://127.0.0.1:5000\n",
            "INFO:werkzeug:\u001b[33mPress CTRL+C to quit\u001b[0m\n",
            "INFO:werkzeug: * Restarting with stat\n"
          ]
        }
      ]
    },
    {
      "cell_type": "code",
      "source": [
        "#15: How do you capture URL parameters in Flask?\n",
        "\n",
        "from flask import Flask\n",
        "\n",
        "app = Flask(__name__)\n",
        "\n",
        "@app.route('/')\n",
        "def home():\n",
        "    return \"Welcome to the Home Page!\"\n",
        "\n",
        "@app.route('/user/<username>')\n",
        "def show_user_profile(username):\n",
        "    return f':User  {username}'\n",
        "\n",
        "@app.route('/user/<int:user_id>/<username>')\n",
        "def show_user(user_id, username):\n",
        "    return f'User  ID: {user_id}, Username: {username}'\n",
        "\n",
        "@app.route('/user/<user_id>/<username>')\n",
        "def show_user_safe(user_id, username):\n",
        "    try:\n",
        "        user_id = int(user_id)  # Convert user_id to an integer\n",
        "        return f'User  ID: {user_id}, Username: {username}'\n",
        "    except ValueError:\n",
        "        return \"Invalid user ID. It must be an integer.\", 400\n",
        "\n",
        "\n",
        "if __name__ == '__main__':\n",
        "    app.run(debug=True)\n"
      ],
      "metadata": {
        "colab": {
          "base_uri": "https://localhost:8080/"
        },
        "id": "Y4KKLJwJGF2f",
        "outputId": "5405500e-e2da-496b-abbc-7a104f2f06cf"
      },
      "execution_count": 22,
      "outputs": [
        {
          "output_type": "stream",
          "name": "stdout",
          "text": [
            " * Serving Flask app '__main__'\n",
            " * Debug mode: on\n"
          ]
        },
        {
          "output_type": "stream",
          "name": "stderr",
          "text": [
            "INFO:werkzeug:\u001b[31m\u001b[1mWARNING: This is a development server. Do not use it in a production deployment. Use a production WSGI server instead.\u001b[0m\n",
            " * Running on http://127.0.0.1:5000\n",
            "INFO:werkzeug:\u001b[33mPress CTRL+C to quit\u001b[0m\n",
            "INFO:werkzeug: * Restarting with stat\n"
          ]
        }
      ]
    },
    {
      "cell_type": "code",
      "source": [],
      "metadata": {
        "id": "ZaZWBlaGGjex"
      },
      "execution_count": null,
      "outputs": []
    }
  ]
}